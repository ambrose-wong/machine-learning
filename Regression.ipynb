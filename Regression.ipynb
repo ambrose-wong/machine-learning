{
 "cells": [
  {
   "cell_type": "markdown",
   "metadata": {},
   "source": [
    "### Homework #2"
   ]
  },
  {
   "cell_type": "code",
   "execution_count": 41,
   "metadata": {
    "collapsed": true
   },
   "outputs": [],
   "source": [
    "import numpy as np\n",
    "import random\n",
    "import matplotlib.pyplot as plt\n",
    "import warnings\n",
    "%matplotlib inline\n",
    "\n",
    "class Regression:\n",
    "    \n",
    "    def __init__(self, N, get_line = True, weights_line=np.array([0,0,0])):\n",
    "        \"\"\"If get_line is set to False then weights_line vector must be supplied\"\"\"\n",
    "        if get_line:\n",
    "            self.v1 = np.random.uniform(-1, 1, 2 )\n",
    "            self.v2 = np.random.uniform(-1, 1, 2 )\n",
    "            self.weights_line = self.make_line(self.v1, self.v2)\n",
    "        else:\n",
    "            self.weights_line = weights_line\n",
    "            if np.array_equal(weights_line, np.array([0,0,0])):\n",
    "                warnings.warn('Did not set weights_line vector')\n",
    "                \n",
    "        self.N = N\n",
    "        return\n",
    "\n",
    "    def make_line(self, v1, v2):\n",
    "        \"\"\"This function returns a vector for the random line formed\n",
    "            return: weights of line vector\n",
    "        \n",
    "        \"\"\"\n",
    "        slope = (v2[1] - v1[1])/(v2[0] - v1[0])\n",
    "        intercept = v2[1] - slope*v2[0]\n",
    "        return np.array([intercept, slope, -1])\n",
    "    \n",
    "    def generate_data(self):\n",
    "        \"\"\"This function classifies randomly generated N points based on random line\n",
    "        args:\n",
    "               N (int) - Number of points generated\n",
    "               weights (numpy array, size 3) - weights for the random line\n",
    "        Return:\n",
    "               data (list of length N) - randomly generated points\"\"\"\n",
    "        self.data = []\n",
    "        self.X = []\n",
    "        self.y = []\n",
    "        \n",
    "        for i in range(self.N):\n",
    "            x = np.concatenate((np.array([1]), np.random.uniform(-1, 1, 2 )))\n",
    "            if np.dot(self.weights_line, x)> 0:\n",
    "                self.data.append((x, 1))\n",
    "                self.X.append(x)\n",
    "                self.y.append([1])\n",
    "            else:\n",
    "                self.data.append((x, -1))\n",
    "                self.X.append(x)\n",
    "                self.y.append([-1])\n",
    "        self.X = np.array(self.X)\n",
    "        self.y = np.array(self.y)\n",
    "        return self\n",
    "\n",
    "    def classify(self):\n",
    "        \"\"\"This function implements the regression algorithm \n",
    "           args:\n",
    "               data (tuple(numpy array of size 2, int))- \n",
    "               w (numpy array, size 3) - weights for the initial zero vector\n",
    "           Return:\n",
    "               w (numpy array, size 3) - weights for the final line\n",
    "        \"\"\"  \n",
    "        self.w = np.linalg.inv(np.dot(self.X.T, self.X)).dot(self.X.T).dot(self.y)\n",
    "        self.w = self.w.reshape(3)\n",
    "        return self\n",
    "    \n",
    "    def insample_error(self):\n",
    "        misclassified_list = []\n",
    "        for (x,y) in self.data:\n",
    "            if np.sign(np.dot(self.w, x)) != y:\n",
    "                misclassified_list.append((x,y))\n",
    "        return len(misclassified_list)/len(self.data)    \n",
    "    \n",
    "    def label_data(self, data):\n",
    "        \"\"\"This function classifies data based on weights of line\n",
    "           args:\n",
    "               data (tuple(numpy array of size 2, int))- \n",
    "               w (numpy array, size 3) - weights for the line\n",
    "           Return:\n",
    "               misclassified_list (list) - list of misclassified points\n",
    "        \"\"\"    \n",
    "        misclassified_list = []\n",
    "        for (x,y) in data:\n",
    "            if np.sign(np.dot(self.w, x)) != y:\n",
    "                misclassified_list.append((x,y))\n",
    "        return misclassified_list\n",
    "    \n",
    "    def classify_perceptron(self, data):\n",
    "        \"\"\"This function implements the perceptron learning algorithm \n",
    "           args:\n",
    "               data (tuple(numpy array of size 2, int))- \n",
    "               w (numpy array, size 3) - weights for the initial zero vector\n",
    "           Return:\n",
    "               w (numpy array, size 3) - weights for the final line\n",
    "        \"\"\"  \n",
    "        misclassified_list = self.label_data(data)\n",
    "        self.steps = 1\n",
    "        while len(misclassified_list)!= 0:\n",
    "            (xi,yi) = random.choice(misclassified_list)\n",
    "            self.w = self.w + xi*yi  \n",
    "            misclassified_list = self.label_data(data)\n",
    "            self.steps +=1\n",
    "        return self "
   ]
  },
  {
   "cell_type": "code",
   "execution_count": 37,
   "metadata": {},
   "outputs": [
    {
     "name": "stdout",
     "output_type": "stream",
     "text": [
      "0.20 % -> 20.20 % -> 40.20 % -> 60.20 % -> 80.20 % -> 100 %\n",
      "0.03974 0.030386\n"
     ]
    }
   ],
   "source": [
    "insample_error_list = [] \n",
    "outsample_error_list = []\n",
    "iterations = 500\n",
    "for i in range(iterations):\n",
    "    x = Regression(100).generate_data().classify()\n",
    "    insample_error_list.append(x.insample_error())\n",
    "    y = Regression(1000, get_line = False, weights_line=x.w).generate_data().classify()\n",
    "    outsample_error_list.append(y.insample_error())\n",
    "    if i%100==0:\n",
    "        print (\"{:.2f}\".format(100*(i+1)/iterations), '% -> ', end='')\n",
    "print ('100 %')\n",
    "print(np.mean(insample_error_list), np.mean(outsample_error_list ))"
   ]
  },
  {
   "cell_type": "code",
   "execution_count": 44,
   "metadata": {},
   "outputs": [
    {
     "name": "stdout",
     "output_type": "stream",
     "text": [
      "0.10 % -> 10.10 % -> 20.10 % -> 30.10 % -> 40.10 % -> 50.10 % -> 60.10 % -> 70.10 % -> 80.10 % -> 90.10 % -> 100 %\n",
      "5.216\n"
     ]
    }
   ],
   "source": [
    "iterations = 1000\n",
    "steps_list = [] \n",
    "for i in range(iterations):\n",
    "    x = Regression(10).generate_data().classify()\n",
    "    y = x.classify_perceptron(x.data)\n",
    "    steps_list.append(y.steps)\n",
    "    if i%100==0:\n",
    "        print (\"{:.2f}\".format(100*(i+1)/iterations), '% -> ', end='')\n",
    "print ('100 %')\n",
    "print(np.mean(steps_list))    "
   ]
  },
  {
   "cell_type": "code",
   "execution_count": null,
   "metadata": {
    "collapsed": true
   },
   "outputs": [],
   "source": []
  },
  {
   "cell_type": "code",
   "execution_count": null,
   "metadata": {
    "collapsed": true
   },
   "outputs": [],
   "source": []
  }
 ],
 "metadata": {
  "kernelspec": {
   "display_name": "Python 3",
   "language": "python",
   "name": "python3"
  },
  "language_info": {
   "codemirror_mode": {
    "name": "ipython",
    "version": 3
   },
   "file_extension": ".py",
   "mimetype": "text/x-python",
   "name": "python",
   "nbconvert_exporter": "python",
   "pygments_lexer": "ipython3",
   "version": "3.6.3"
  }
 },
 "nbformat": 4,
 "nbformat_minor": 2
}
