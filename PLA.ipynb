{
 "cells": [
  {
   "cell_type": "markdown",
   "metadata": {},
   "source": [
    "### Homework 0"
   ]
  },
  {
   "cell_type": "code",
   "execution_count": 1,
   "metadata": {
    "collapsed": true
   },
   "outputs": [],
   "source": [
    "import numpy as np\n",
    "import random\n",
    "import matplotlib.pyplot as plt\n",
    "%matplotlib inline"
   ]
  },
  {
   "cell_type": "code",
   "execution_count": 2,
   "metadata": {
    "collapsed": true
   },
   "outputs": [],
   "source": [
    "def make_line():\n",
    "    \"\"\"This function returns a vector for the random line formed\n",
    "    return: weights of line vector\n",
    "    \n",
    "    \"\"\"\n",
    "    (x1,y1) = np.random.uniform(-1, 1, 2 )\n",
    "    (x2,y2) = np.random.uniform(-1, 1, 2 )\n",
    "    slope = (y2 - y1)/(x2 - x1)\n",
    "    intercept = y2 - slope*x2\n",
    "    return np.array([intercept, slope, -1])\n",
    "\n",
    "def plot_generate_classified_points(N, weights_line):\n",
    "    \"\"\"This function classifies randomly generated N points based on random line\n",
    "       and plots the results\n",
    "       args:\n",
    "           N (int) - Number of points generated\n",
    "           weights (numpy array, size 3) - weights for the random line\n",
    "       Return: None\n",
    "    \"\"\"\n",
    "    X = np.linspace(-1, 1, 10, endpoint=True)\n",
    "    Y = weights_line[0] + weights_line[1]*X\n",
    "    plt.ylim(-1, 1)\n",
    "    plt.plot(X, Y)\n",
    "    for i in range(N):\n",
    "        x = np.concatenate((np.array([1]), np.random.uniform(-1, 1, 2 )))\n",
    "        if np.dot(weights_line, x)> 0:\n",
    "            plt.plot(x[1], x[2], marker='o', markersize=3, color=\"blue\")\n",
    "        else:\n",
    "            plt.plot(x[1], x[2], marker='o', markersize=3, color=\"red\")\n",
    "    plt.show()\n",
    "    return"
   ]
  },
  {
   "cell_type": "code",
   "execution_count": 3,
   "metadata": {},
   "outputs": [
    {
     "data": {
      "image/png": "[encoded data removed]",
      "text/plain": [
       "<matplotlib.figure.Figure at 0x54a172ce10>"
      ]
     },
     "metadata": {},
     "output_type": "display_data"
    }
   ],
   "source": [
    "weights_line = make_line()\n",
    "plot_generate_classified_points(100, weights_line)"
   ]
  },
  {
   "cell_type": "markdown",
   "metadata": {},
   "source": [
    "### Homework 1"
   ]
  },
  {
   "cell_type": "markdown",
   "metadata": {},
   "source": [
    "### Perceptron learning algorithm "
   ]
  },
  {
   "cell_type": "code",
   "execution_count": 4,
   "metadata": {
    "collapsed": true
   },
   "outputs": [],
   "source": [
    "def generate_data(N, weights_line):\n",
    "    \"\"\"This function classifies randomly generated N points based on random line\n",
    "       args:\n",
    "           N (int) - Number of points generated\n",
    "           weights (numpy array, size 3) - weights for the random line\n",
    "       Return:\n",
    "           data (list of length N) - randomly generated points\n",
    "    \"\"\"\n",
    "    data = []\n",
    "    for i in range(N):\n",
    "        x = np.concatenate((np.array([1]), np.random.uniform(-1, 1, 2 )))\n",
    "        if np.dot(weights_line, x)> 0:\n",
    "            data.append((x, 1))\n",
    "        else:\n",
    "            data.append((x, -1))\n",
    "    return data\n",
    "\n",
    "def classify(data, w):\n",
    "    \"\"\"This function classifies data based on weights of line\n",
    "       args:\n",
    "           data (tuple(numpy array of size 2, int))- \n",
    "           w (numpy array, size 3) - weights for the line\n",
    "       Return:\n",
    "           misclassified_list (list) - list of misclassified points\n",
    "    \"\"\"    \n",
    "    misclassified_list = []\n",
    "    for (x,y) in data:\n",
    "        if np.sign(np.dot(w, x)) != y:\n",
    "            misclassified_list.append((x,y))\n",
    "    return misclassified_list\n",
    "\n",
    "def perceptron(data,w=np.array([0,0,0])):\n",
    "    \"\"\"This function implements the perceptron learning algorithm \n",
    "       args:\n",
    "           data (tuple(numpy array of size 2, int))- \n",
    "           w (numpy array, size 3) - weights for the initial zero vector\n",
    "       Return:\n",
    "           w (numpy array, size 3) - weights for the final line\n",
    "    \"\"\"  \n",
    "    misclassified_list = classify(data, w)\n",
    "    steps = 1\n",
    "    while len(misclassified_list)!= 0:\n",
    "        (xi,yi) = random.choice(misclassified_list)\n",
    "        w = w + xi*yi  \n",
    "        misclassified_list = classify(data, w)\n",
    "        steps +=1\n",
    "    return w, steps\n",
    "\n",
    "def plot(data, w, weights_line):\n",
    "    \"\"\"This function plots the data based on the final weight and also plots the random line to confirm results\n",
    "       args:\n",
    "           data (list of length N) - generated data\n",
    "           w (numpy array, size 3) - final weights from PLA\n",
    "           weights (numpy array, size 3) - weights for the random line\n",
    "       Return: None\n",
    "    \"\"\"\n",
    "    X = np.linspace(-1, 1, 10, endpoint=True)\n",
    "    Y = weights_line[0] + weights_line[1]*X\n",
    "    plt.ylim(-1, 1)\n",
    "    plt.plot(X, Y, color = \"yellow\")\n",
    "    for (x,y) in data:\n",
    "        if np.dot(w, x)> 0:\n",
    "            plt.plot(x[1], x[2], marker='o', markersize=3, color=\"blue\")\n",
    "        else:\n",
    "            plt.plot(x[1], x[2], marker='o', markersize=3, color=\"red\")\n",
    "    plt.show()\n",
    "    return"
   ]
  },
  {
   "cell_type": "code",
   "execution_count": 5,
   "metadata": {
    "scrolled": true
   },
   "outputs": [
    {
     "data": {
      "image/png": "[encoded data removed]",
      "text/plain": [
       "<matplotlib.figure.Figure at 0x54a1a9e3c8>"
      ]
     },
     "metadata": {},
     "output_type": "display_data"
    }
   ],
   "source": [
    "weights_line = make_line()\n",
    "data = generate_data(40, weights_line)\n",
    "w, steps = perceptron(data)\n",
    "plot(data, w, weights_line)"
   ]
  },
  {
   "cell_type": "markdown",
   "metadata": {},
   "source": [
    "### Simulation of PLA"
   ]
  },
  {
   "cell_type": "code",
   "execution_count": 36,
   "metadata": {
    "collapsed": true
   },
   "outputs": [],
   "source": [
    "def simulation(iterations, N, M):\n",
    "    \"\"\"This function simulates PLA and calculates number of steps to convergence and error rate\n",
    "       args:\n",
    "           iterations (int) - number of iterations for simulation\n",
    "           N (int) - number of points to be generated by PLA\n",
    "           M (int) - number of points to be generated by PLA for out of sample testing\n",
    "       Return: None\n",
    "    \"\"\"\n",
    "    steps_list = []\n",
    "    error_list = [] \n",
    "    for i in range(iterations):\n",
    "        weights_line = make_line()\n",
    "        data = generate_data(N, weights_line)\n",
    "        w, steps = perceptron(data)\n",
    "        steps_list.append(steps)\n",
    "        new_data = generate_data(M, weights_line)\n",
    "        misclassified_list = classify(new_data, w)\n",
    "        error_list.append(len(misclassified_list)/M)\n",
    "        if i%100==0:\n",
    "            print (\"{:.2f}\".format(100*(i+1)/iterations), '% ->', end='')\n",
    "    return np.mean(steps_list), np.mean(error_list)"
   ]
  },
  {
   "cell_type": "code",
   "execution_count": 37,
   "metadata": {},
   "outputs": [
    {
     "name": "stdout",
     "output_type": "stream",
     "text": [
      "0.10 % ->10.10 % ->20.10 % ->30.10 % ->40.10 % ->50.10 % ->60.10 % ->70.10 % ->80.10 % ->90.10 % ->"
     ]
    },
    {
     "data": {
      "text/plain": [
       "(10.288, 0.10871)"
      ]
     },
     "execution_count": 37,
     "metadata": {},
     "output_type": "execute_result"
    }
   ],
   "source": [
    "simulation(1000, 10, 100)"
   ]
  },
  {
   "cell_type": "code",
   "execution_count": 39,
   "metadata": {},
   "outputs": [
    {
     "name": "stdout",
     "output_type": "stream",
     "text": [
      "0.33 % ->33.67 % ->67.00 % ->"
     ]
    },
    {
     "data": {
      "text/plain": [
       "(111.32666666666667, 0.014866666666666669)"
      ]
     },
     "execution_count": 39,
     "metadata": {},
     "output_type": "execute_result"
    }
   ],
   "source": [
    "simulation(300, 100, 100)"
   ]
  },
  {
   "cell_type": "markdown",
   "metadata": {
    "collapsed": true
   },
   "source": [
    "### Define Class for a PLA using functions developed above"
   ]
  },
  {
   "cell_type": "code",
   "execution_count": null,
   "metadata": {
    "collapsed": true
   },
   "outputs": [],
   "source": []
  },
  {
   "cell_type": "code",
   "execution_count": null,
   "metadata": {
    "collapsed": true
   },
   "outputs": [],
   "source": []
  },
  {
   "cell_type": "code",
   "execution_count": null,
   "metadata": {
    "collapsed": true
   },
   "outputs": [],
   "source": []
  }
 ],
 "metadata": {
  "kernelspec": {
   "display_name": "Python 3",
   "language": "python",
   "name": "python3"
  },
  "language_info": {
   "codemirror_mode": {
    "name": "ipython",
    "version": 3
   },
   "file_extension": ".py",
   "mimetype": "text/x-python",
   "name": "python",
   "nbconvert_exporter": "python",
   "pygments_lexer": "ipython3",
   "version": "3.6.3"
  }
 },
 "nbformat": 4,
 "nbformat_minor": 2
}
