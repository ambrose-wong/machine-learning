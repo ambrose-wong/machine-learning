{
 "cells": [
  {
   "cell_type": "markdown",
   "metadata": {},
   "source": [
    "### Homework 0"
   ]
  },
  {
   "cell_type": "code",
   "execution_count": 1,
   "metadata": {
    "collapsed": true
   },
   "outputs": [],
   "source": [
    "import numpy as np\n",
    "import random\n",
    "import matplotlib.pyplot as plt\n",
    "%matplotlib inline"
   ]
  },
  {
   "cell_type": "code",
   "execution_count": 2,
   "metadata": {
    "collapsed": true
   },
   "outputs": [],
   "source": [
    "def make_line():\n",
    "    \"\"\"This function returns a vector for the random line formed\n",
    "    return: weights of line vector\n",
    "    \n",
    "    \"\"\"\n",
    "    (x1,y1) = np.random.uniform(-1, 1, 2 )\n",
    "    (x2,y2) = np.random.uniform(-1, 1, 2 )\n",
    "    slope = (y2 - y1)/(x2 - x1)\n",
    "    intercept = y2 - slope*x2\n",
    "    return np.array([intercept, slope, -1])\n",
    "\n",
    "def plot_generate_classified_points(N, weights_line):\n",
    "    \"\"\"This function classifies randomly generated N points based on random line\n",
    "       and plots the results\n",
    "       args:\n",
    "           N (int) - Number of points generated\n",
    "           weights (numpy array, size 3) - weights for the random line\n",
    "       Return: None\n",
    "    \"\"\"\n",
    "    X = np.linspace(-1, 1, 10, endpoint=True)\n",
    "    Y = weights_line[0] + weights_line[1]*X\n",
    "    plt.ylim(-1, 1)\n",
    "    plt.plot(X, Y)\n",
    "    for i in range(N):\n",
    "        x = np.concatenate((np.array([1]), np.random.uniform(-1, 1, 2 )))\n",
    "        if np.dot(weights_line, x)> 0:\n",
    "            plt.plot(x[1], x[2], marker='o', markersize=3, color=\"blue\")\n",
    "        else:\n",
    "            plt.plot(x[1], x[2], marker='o', markersize=3, color=\"red\")\n",
    "    plt.show()\n",
    "    return"
   ]
  },
  {
   "cell_type": "code",
   "execution_count": 3,
   "metadata": {},
   "outputs": [
    {
     "data": {
      "image/png": "[encoded data removed]",
      "text/plain": [
       "<matplotlib.figure.Figure at 0x1e72769e80>"
      ]
     },
     "metadata": {},
     "output_type": "display_data"
    }
   ],
   "source": [
    "weights_line = make_line()\n",
    "plot_generate_classified_points(100, weights_line)"
   ]
  },
  {
   "cell_type": "markdown",
   "metadata": {},
   "source": [
    "### Homework 1"
   ]
  },
  {
   "cell_type": "markdown",
   "metadata": {},
   "source": [
    "### Perceptron learning algorithm (PLA)"
   ]
  },
  {
   "cell_type": "code",
   "execution_count": 4,
   "metadata": {
    "collapsed": true
   },
   "outputs": [],
   "source": [
    "def generate_data(N, weights_line):\n",
    "    \"\"\"This function classifies randomly generated N points based on random line\n",
    "       args:\n",
    "           N (int) - Number of points generated\n",
    "           weights (numpy array, size 3) - weights for the random line\n",
    "       Return:\n",
    "           data (list of length N) - randomly generated points\n",
    "    \"\"\"\n",
    "    data = []\n",
    "    for i in range(N):\n",
    "        x = np.concatenate((np.array([1]), np.random.uniform(-1, 1, 2 )))\n",
    "        if np.dot(weights_line, x)> 0:\n",
    "            data.append((x, 1))\n",
    "        else:\n",
    "            data.append((x, -1))\n",
    "    return data\n",
    "\n",
    "def classify(data, w):\n",
    "    \"\"\"This function classifies data based on weights of line\n",
    "       args:\n",
    "           data (tuple(numpy array of size 2, int))- \n",
    "           w (numpy array, size 3) - weights for the line\n",
    "       Return:\n",
    "           misclassified_list (list) - list of misclassified points\n",
    "    \"\"\"    \n",
    "    misclassified_list = []\n",
    "    for (x,y) in data:\n",
    "        if np.sign(np.dot(w, x)) != y:\n",
    "            misclassified_list.append((x,y))\n",
    "    return misclassified_list\n",
    "\n",
    "def perceptron(data,w=np.array([0,0,0])):\n",
    "    \"\"\"This function implements the perceptron learning algorithm \n",
    "       args:\n",
    "           data (tuple(numpy array of size 2, int))- \n",
    "           w (numpy array, size 3) - weights for the initial zero vector\n",
    "       Return:\n",
    "           w (numpy array, size 3) - weights for the final line\n",
    "    \"\"\"  \n",
    "    misclassified_list = classify(data, w)\n",
    "    steps = 1\n",
    "    while len(misclassified_list)!= 0:\n",
    "        (xi,yi) = random.choice(misclassified_list)\n",
    "        w = w + xi*yi  \n",
    "        misclassified_list = classify(data, w)\n",
    "        steps +=1\n",
    "    return w, steps\n",
    "\n",
    "def plot(data, w, weights_line):\n",
    "    \"\"\"This function plots the data based on the final weight and also plots the random line to confirm results\n",
    "       args:\n",
    "           data (list of length N) - generated data\n",
    "           w (numpy array, size 3) - final weights from PLA\n",
    "           weights (numpy array, size 3) - weights for the random line\n",
    "       Return: None\n",
    "    \"\"\"\n",
    "    X = np.linspace(-1, 1, 10, endpoint=True)\n",
    "    Y = weights_line[0] + weights_line[1]*X\n",
    "    plt.ylim(-1, 1)\n",
    "    plt.plot(X, Y, color = \"yellow\")\n",
    "    for (x,y) in data:\n",
    "        if np.dot(w, x)> 0:\n",
    "            plt.plot(x[1], x[2], marker='o', markersize=3, color=\"blue\")\n",
    "        else:\n",
    "            plt.plot(x[1], x[2], marker='o', markersize=3, color=\"red\")\n",
    "    plt.show()\n",
    "    return"
   ]
  },
  {
   "cell_type": "code",
   "execution_count": 5,
   "metadata": {
    "scrolled": true
   },
   "outputs": [
    {
     "data": {
      "image/png": "[encoded data removed]",
      "text/plain": [
       "<matplotlib.figure.Figure at 0x1e72ac0f98>"
      ]
     },
     "metadata": {},
     "output_type": "display_data"
    }
   ],
   "source": [
    "weights_line = make_line()\n",
    "data = generate_data(40, weights_line)\n",
    "w, steps = perceptron(data)\n",
    "plot(data, w, weights_line)"
   ]
  },
  {
   "cell_type": "markdown",
   "metadata": {},
   "source": [
    "### Simulation of PLA"
   ]
  },
  {
   "cell_type": "code",
   "execution_count": 6,
   "metadata": {
    "collapsed": true
   },
   "outputs": [],
   "source": [
    "def simulation(iterations, N, M):\n",
    "    \"\"\"This function simulates PLA and calculates number of steps to convergence and error rate\n",
    "       args:\n",
    "           iterations (int) - number of iterations for simulation\n",
    "           N (int) - number of points to be generated by PLA\n",
    "           M (int) - number of points to be generated by PLA for out of sample testing\n",
    "       Return: None\n",
    "    \"\"\"\n",
    "    steps_list = []\n",
    "    error_list = [] \n",
    "    for i in range(iterations):\n",
    "        weights_line = make_line()\n",
    "        data = generate_data(N, weights_line)\n",
    "        w, steps = perceptron(data)\n",
    "        steps_list.append(steps)\n",
    "        new_data = generate_data(M, weights_line)\n",
    "        misclassified_list = classify(new_data, w)\n",
    "        error_list.append(len(misclassified_list)/M)\n",
    "        if i%100==0:\n",
    "            print (\"{:.2f}\".format(100*(i+1)/iterations), '% -> ', end='')\n",
    "    print('100 %')\n",
    "    return np.mean(steps_list), np.mean(error_list)"
   ]
  },
  {
   "cell_type": "code",
   "execution_count": 7,
   "metadata": {},
   "outputs": [
    {
     "name": "stdout",
     "output_type": "stream",
     "text": [
      "0.10 % -> 10.10 % -> 20.10 % -> 30.10 % -> 40.10 % -> 50.10 % -> 60.10 % -> 70.10 % -> 80.10 % -> 90.10 % -> 100 %\n"
     ]
    },
    {
     "data": {
      "text/plain": [
       "(10.265000000000001, 0.11013000000000001)"
      ]
     },
     "execution_count": 7,
     "metadata": {},
     "output_type": "execute_result"
    }
   ],
   "source": [
    "random.seed(1)\n",
    "simulation(1000, 10, 100)"
   ]
  },
  {
   "cell_type": "code",
   "execution_count": 8,
   "metadata": {},
   "outputs": [
    {
     "name": "stdout",
     "output_type": "stream",
     "text": [
      "0.33 % -> 33.67 % -> 67.00 % -> 100 %\n"
     ]
    },
    {
     "data": {
      "text/plain": [
       "(157.96666666666667, 0.013666666666666666)"
      ]
     },
     "execution_count": 8,
     "metadata": {},
     "output_type": "execute_result"
    }
   ],
   "source": [
    "simulation(300, 100, 100)"
   ]
  },
  {
   "cell_type": "markdown",
   "metadata": {},
   "source": [
    "### Extensions"
   ]
  },
  {
   "cell_type": "markdown",
   "metadata": {
    "collapsed": true
   },
   "source": [
    "### Define Class for a PLA using functions developed above"
   ]
  },
  {
   "cell_type": "code",
   "execution_count": 9,
   "metadata": {},
   "outputs": [],
   "source": [
    "import numpy as np\n",
    "import random\n",
    "import matplotlib.pyplot as plt\n",
    "import warnings\n",
    "%matplotlib inline\n",
    "\n",
    "class PLA:\n",
    "    \n",
    "    def __init__(self, N, get_line = True, w=np.array([0,0,0]), weights_line=np.array([0,0,0])):\n",
    "        \"\"\"If get_line is set to False then weights_line vector must be supplied\"\"\"\n",
    "        if get_line:\n",
    "            self.v1 = np.random.uniform(-1, 1, 2 )\n",
    "            self.v2 = np.random.uniform(-1, 1, 2 )\n",
    "            self.weights_line = self.make_line(self.v1, self.v2)\n",
    "        else:\n",
    "            self.weights_line = weights_line\n",
    "            if np.array_equal(weights_line, np.array([0,0,0])):\n",
    "                warnings.warn('Did not set weights_line vector')\n",
    "                \n",
    "        self.N = N\n",
    "        self.w = w\n",
    "        return\n",
    "\n",
    "    def make_line(self, v1, v2):\n",
    "        \"\"\"This function returns a vector for the random line formed\n",
    "            return: weights of line vector\n",
    "        \n",
    "        \"\"\"\n",
    "        slope = (v2[1] - v1[1])/(v2[0] - v1[0])\n",
    "        intercept = v2[1] - slope*v2[0]\n",
    "        return np.array([intercept, slope, -1])\n",
    "    \n",
    "    def generate_data(self):\n",
    "        \"\"\"This function classifies randomly generated N points based on random line\n",
    "        args:\n",
    "               N (int) - Number of points generated\n",
    "               weights (numpy array, size 3) - weights for the random line\n",
    "        Return:\n",
    "               data (list of length N) - randomly generated points\"\"\"\n",
    "        self.data = []\n",
    "        \n",
    "        for i in range(self.N):\n",
    "            x = np.concatenate((np.array([1]), np.random.uniform(-1, 1, 2 )))\n",
    "            if np.dot(self.weights_line, x)> 0:\n",
    "                self.data.append((x, 1))\n",
    "            else:\n",
    "                self.data.append((x, -1))\n",
    "        return self\n",
    "    \n",
    "    def classify(self):\n",
    "        \"\"\"This function classifies data based on weights of line\n",
    "           args:\n",
    "               data (tuple(numpy array of size 2, int))- \n",
    "               w (numpy array, size 3) - weights for the line\n",
    "           Return:\n",
    "               misclassified_list (list) - list of misclassified points\n",
    "        \"\"\"    \n",
    "        misclassified_list = []\n",
    "        for (x,y) in self.data:\n",
    "            if np.sign(np.dot(self.w, x)) != y:\n",
    "                misclassified_list.append((x,y))\n",
    "        return misclassified_list\n",
    "\n",
    "    def perceptron(self):\n",
    "        \"\"\"This function implements the perceptron learning algorithm \n",
    "           args:\n",
    "               data (tuple(numpy array of size 2, int))- \n",
    "               w (numpy array, size 3) - weights for the initial zero vector\n",
    "           Return:\n",
    "               w (numpy array, size 3) - weights for the final line\n",
    "        \"\"\"  \n",
    "        misclassified_list = self.classify()\n",
    "        self.steps = 1\n",
    "        while len(misclassified_list)!= 0:\n",
    "            (xi,yi) = random.choice(misclassified_list)\n",
    "            self.w = self.w + xi*yi  \n",
    "            misclassified_list = self.classify()\n",
    "            self.steps +=1\n",
    "        return self\n",
    "    \n",
    "    def plot(self):\n",
    "        \"\"\"This function plots the data based on the final weight and also plots the random line to confirm results\n",
    "           args:\n",
    "               data (list of length N) - generated data\n",
    "               w (numpy array, size 3) - final weights from PLA\n",
    "               weights (numpy array, size 3) - weights for the random line\n",
    "           Return: None\n",
    "        \"\"\"\n",
    "        X = np.linspace(-1, 1, 10, endpoint=True)\n",
    "        Y = self.weights_line[0] + self.weights_line[1]*X\n",
    "        plt.ylim(-1, 1)\n",
    "        plt.plot(X, Y, color = \"yellow\")\n",
    "        for (x,y) in self.data:\n",
    "            if np.dot(self.w, x)> 0:\n",
    "                plt.plot(x[1], x[2], marker='o', markersize=3, color=\"blue\")\n",
    "            else:\n",
    "                plt.plot(x[1], x[2], marker='o', markersize=3, color=\"red\")\n",
    "        plt.show()\n",
    "        return self"
   ]
  },
  {
   "cell_type": "code",
   "execution_count": 10,
   "metadata": {},
   "outputs": [
    {
     "data": {
      "image/png": "[encoded data removed]",
      "text/plain": [
       "<matplotlib.figure.Figure at 0x1e72b28be0>"
      ]
     },
     "metadata": {},
     "output_type": "display_data"
    },
    {
     "name": "stdout",
     "output_type": "stream",
     "text": [
      "[ 0.         -0.15905247 -0.42166144]\n"
     ]
    }
   ],
   "source": [
    "x = PLA(10).generate_data().perceptron().plot()\n",
    "print(x.w)"
   ]
  },
  {
   "cell_type": "code",
   "execution_count": 11,
   "metadata": {
    "collapsed": true
   },
   "outputs": [],
   "source": [
    "def simulation_PLA_class(iterations, N, M):\n",
    "    \"\"\"This function simulates PLA and calculates number of steps to convergence and error rate\n",
    "       This function uses the class implementation of PLA\n",
    "       args:\n",
    "           iterations (int) - number of iterations for simulation\n",
    "           N (int) - number of points to be generated by PLA\n",
    "           M (int) - number of points to be generated by PLA for out of sample testing\n",
    "       Return: None\n",
    "    \"\"\"\n",
    "    steps_list = []\n",
    "    error_list = [] \n",
    "    for i in range(iterations):\n",
    "        x = PLA(N).generate_data().perceptron()\n",
    "        steps_list.append(x.steps)\n",
    "        misclassified_list = PLA(M,get_line = False, w=x.w,weights_line=x.weights_line).generate_data().classify()\n",
    "        error_list.append(len(misclassified_list)/M)\n",
    "        if i%100==0:\n",
    "            print (\"{:.2f}\".format(100*(i+1)/iterations), '% -> ', end='')\n",
    "    print ('100 %')\n",
    "    return np.mean(steps_list), np.mean(error_list)"
   ]
  },
  {
   "cell_type": "code",
   "execution_count": 13,
   "metadata": {},
   "outputs": [
    {
     "name": "stdout",
     "output_type": "stream",
     "text": [
      "0.10 % -> 10.10 % -> 20.10 % -> 30.10 % -> 40.10 % -> 50.10 % -> 60.10 % -> 70.10 % -> 80.10 % -> 90.10 % -> 100 %\n"
     ]
    },
    {
     "data": {
      "text/plain": [
       "(10.869, 0.10864000000000001)"
      ]
     },
     "execution_count": 13,
     "metadata": {},
     "output_type": "execute_result"
    }
   ],
   "source": [
    "random.seed(1)\n",
    "simulation_PLA_class(1000, 10, 100)"
   ]
  },
  {
   "cell_type": "code",
   "execution_count": 14,
   "metadata": {},
   "outputs": [
    {
     "name": "stderr",
     "output_type": "stream",
     "text": [
      "C:\\Users\\Ambrose\\Anaconda3\\lib\\site-packages\\ipykernel_launcher.py:18: UserWarning: Did not set weights_line vector\n"
     ]
    },
    {
     "data": {
      "text/plain": [
       "[(array([ 1.        ,  0.65038472,  0.07588544]), -1),\n",
       " (array([ 1.        , -0.51638663, -0.37337134]), -1),\n",
       " (array([ 1.        , -0.81340355,  0.79119987]), -1),\n",
       " (array([ 1.        , -0.30624445, -0.63780525]), -1),\n",
       " (array([ 1.        ,  0.92939059,  0.65283859]), -1),\n",
       " (array([ 1.        , -0.97315903, -0.57546915]), -1),\n",
       " (array([ 1.        , -0.94971118, -0.1935037 ]), -1),\n",
       " (array([ 1.        , -0.16414267,  0.73889786]), -1),\n",
       " (array([ 1.        ,  0.73429313, -0.91921538]), -1),\n",
       " (array([ 1.        , -0.25690956, -0.13351848]), -1)]"
      ]
     },
     "execution_count": 14,
     "metadata": {},
     "output_type": "execute_result"
    }
   ],
   "source": [
    "PLA(10,get_line = False).generate_data().classify()"
   ]
  },
  {
   "cell_type": "code",
   "execution_count": null,
   "metadata": {
    "collapsed": true
   },
   "outputs": [],
   "source": []
  }
 ],
 "metadata": {
  "kernelspec": {
   "display_name": "Python 3",
   "language": "python",
   "name": "python3"
  },
  "language_info": {
   "codemirror_mode": {
    "name": "ipython",
    "version": 3
   },
   "file_extension": ".py",
   "mimetype": "text/x-python",
   "name": "python",
   "nbconvert_exporter": "python",
   "pygments_lexer": "ipython3",
   "version": "3.6.3"
  }
 },
 "nbformat": 4,
 "nbformat_minor": 2
}
